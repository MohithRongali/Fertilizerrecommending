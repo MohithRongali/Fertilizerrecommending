{
 "cells": [
  {
   "cell_type": "code",
   "execution_count": 26,
   "metadata": {},
   "outputs": [],
   "source": [
    "import pandas as pd\n",
    "import numpy as np\n",
    "from sklearn.model_selection import train_test_split\n",
    "from sklearn.preprocessing import LabelEncoder, OneHotEncoder, StandardScaler\n",
    "# import tensorflow as tf\n",
    "# from tensorflow.keras.models import Sequential\n",
    "# from tensorflow.keras.layers import Dense, Dropout\n",
    "import joblib"
   ]
  },
  {
   "cell_type": "code",
   "execution_count": 8,
   "metadata": {},
   "outputs": [],
   "source": [
    "df = pd.read_csv(r\"D:\\fertilizerrecommendation\\data\\f2.csv\")"
   ]
  },
  {
   "cell_type": "code",
   "execution_count": 12,
   "metadata": {},
   "outputs": [],
   "source": [
    "label_enc = LabelEncoder()\n",
    "df['Fertilizer'] = label_enc.fit_transform(df['Fertilizer']) "
   ]
  },
  {
   "cell_type": "code",
   "execution_count": 14,
   "metadata": {},
   "outputs": [
    {
     "data": {
      "text/plain": [
       "['D:\\\\\\\\fertilizerrecommendation\\\\\\\\models\\\\\\\\label_encoder.pkl']"
      ]
     },
     "execution_count": 14,
     "metadata": {},
     "output_type": "execute_result"
    }
   ],
   "source": [
    "# Save the fitted label encoder for later use\n",
    "joblib.dump(label_enc, r\"D:\\\\fertilizerrecommendation\\\\models\\\\label_encoder.pkl\")"
   ]
  },
  {
   "cell_type": "code",
   "execution_count": 15,
   "metadata": {},
   "outputs": [],
   "source": [
    "categorical_cols = [col for col in df.select_dtypes(include=['object']).columns if col != \"Fertilizer\"]\n",
    "df = pd.get_dummies(df, columns=categorical_cols)\n"
   ]
  },
  {
   "cell_type": "code",
   "execution_count": null,
   "metadata": {},
   "outputs": [],
   "source": [
    "X = df.drop(columns=['Fertilizer'])\n",
    "y = tf.keras.utils.to_categorical(df['Fertilizer'])"
   ]
  },
  {
   "cell_type": "code",
   "execution_count": 19,
   "metadata": {},
   "outputs": [],
   "source": [
    "# Fit StandardScaler on numerical features before splitting\n",
    "scaler = StandardScaler()\n",
    "X_scaled = scaler.fit_transform(X)"
   ]
  },
  {
   "cell_type": "code",
   "execution_count": 20,
   "metadata": {},
   "outputs": [
    {
     "data": {
      "text/plain": [
       "['D:\\\\\\\\fertilizerrecommendation\\\\\\\\models\\\\\\\\scaler.pkl']"
      ]
     },
     "execution_count": 20,
     "metadata": {},
     "output_type": "execute_result"
    }
   ],
   "source": [
    "# Save the fitted scaler for later use\n",
    "joblib.dump(scaler, r\"D:\\\\fertilizerrecommendation\\\\models\\\\scaler.pkl\")"
   ]
  },
  {
   "cell_type": "code",
   "execution_count": null,
   "metadata": {},
   "outputs": [],
   "source": [
    "X_train, X_test, y_train, y_test = train_test_split(X, y, test_size=0.2, random_state=42)"
   ]
  },
  {
   "cell_type": "code",
   "execution_count": 24,
   "metadata": {},
   "outputs": [],
   "source": [
    "scaler = StandardScaler()\n",
    "X_train = scaler.fit_transform(X_train)\n",
    "X_test = scaler.transform(X_test)"
   ]
  },
  {
   "cell_type": "code",
   "execution_count": 25,
   "metadata": {},
   "outputs": [
    {
     "ename": "NameError",
     "evalue": "name 'Sequential' is not defined",
     "output_type": "error",
     "traceback": [
      "\u001b[31m---------------------------------------------------------------------------\u001b[39m",
      "\u001b[31mNameError\u001b[39m                                 Traceback (most recent call last)",
      "\u001b[36mCell\u001b[39m\u001b[36m \u001b[39m\u001b[32mIn[25]\u001b[39m\u001b[32m, line 1\u001b[39m\n\u001b[32m----> \u001b[39m\u001b[32m1\u001b[39m model = \u001b[43mSequential\u001b[49m([\n\u001b[32m      2\u001b[39m     Dense(\u001b[32m64\u001b[39m, activation=\u001b[33m'\u001b[39m\u001b[33mrelu\u001b[39m\u001b[33m'\u001b[39m, input_shape=(X_train.shape[\u001b[32m1\u001b[39m],)),\n\u001b[32m      3\u001b[39m     Dropout(\u001b[32m0.3\u001b[39m),\n\u001b[32m      4\u001b[39m     Dense(\u001b[32m64\u001b[39m, activation=\u001b[33m'\u001b[39m\u001b[33mrelu\u001b[39m\u001b[33m'\u001b[39m),\n\u001b[32m      5\u001b[39m     Dropout(\u001b[32m0.3\u001b[39m),\n\u001b[32m      6\u001b[39m     Dense(y.shape[\u001b[32m1\u001b[39m], activation=\u001b[33m'\u001b[39m\u001b[33msoftmax\u001b[39m\u001b[33m'\u001b[39m)\n\u001b[32m      7\u001b[39m ])\n",
      "\u001b[31mNameError\u001b[39m: name 'Sequential' is not defined"
     ]
    }
   ],
   "source": [
    "model = Sequential([\n",
    "    Dense(64, activation='relu', input_shape=(X_train.shape[1],)),\n",
    "    Dropout(0.3),\n",
    "    Dense(64, activation='relu'),\n",
    "    Dropout(0.3),\n",
    "    Dense(y.shape[1], activation='softmax')\n",
    "])"
   ]
  },
  {
   "cell_type": "code",
   "execution_count": null,
   "metadata": {},
   "outputs": [],
   "source": [
    "model.compile(optimizer='adam', loss='categorical_crossentropy', metrics=['accuracy'])"
   ]
  },
  {
   "cell_type": "code",
   "execution_count": null,
   "metadata": {},
   "outputs": [
    {
     "name": "stdout",
     "output_type": "stream",
     "text": [
      "Epoch 1/50\n",
      "\u001b[1m4/4\u001b[0m \u001b[32m━━━━━━━━━━━━━━━━━━━━\u001b[0m\u001b[37m\u001b[0m \u001b[1m1s\u001b[0m 42ms/step - accuracy: 0.1540 - loss: 2.7446 - val_accuracy: 0.1786 - val_loss: 2.6617\n",
      "Epoch 2/50\n",
      "\u001b[1m4/4\u001b[0m \u001b[32m━━━━━━━━━━━━━━━━━━━━\u001b[0m\u001b[37m\u001b[0m \u001b[1m0s\u001b[0m 10ms/step - accuracy: 0.1013 - loss: 2.6597 - val_accuracy: 0.1786 - val_loss: 2.6094\n",
      "Epoch 3/50\n",
      "\u001b[1m4/4\u001b[0m \u001b[32m━━━━━━━━━━━━━━━━━━━━\u001b[0m\u001b[37m\u001b[0m \u001b[1m0s\u001b[0m 11ms/step - accuracy: 0.1524 - loss: 2.5830 - val_accuracy: 0.2143 - val_loss: 2.5638\n",
      "Epoch 4/50\n",
      "\u001b[1m4/4\u001b[0m \u001b[32m━━━━━━━━━━━━━━━━━━━━\u001b[0m\u001b[37m\u001b[0m \u001b[1m0s\u001b[0m 11ms/step - accuracy: 0.1520 - loss: 2.4721 - val_accuracy: 0.2500 - val_loss: 2.5236\n",
      "Epoch 5/50\n",
      "\u001b[1m4/4\u001b[0m \u001b[32m━━━━━━━━━━━━━━━━━━━━\u001b[0m\u001b[37m\u001b[0m \u001b[1m0s\u001b[0m 11ms/step - accuracy: 0.2255 - loss: 2.3513 - val_accuracy: 0.2143 - val_loss: 2.4799\n",
      "Epoch 6/50\n",
      "\u001b[1m4/4\u001b[0m \u001b[32m━━━━━━━━━━━━━━━━━━━━\u001b[0m\u001b[37m\u001b[0m \u001b[1m0s\u001b[0m 11ms/step - accuracy: 0.1650 - loss: 2.3364 - val_accuracy: 0.2500 - val_loss: 2.4416\n",
      "Epoch 7/50\n",
      "\u001b[1m4/4\u001b[0m \u001b[32m━━━━━━━━━━━━━━━━━━━━\u001b[0m\u001b[37m\u001b[0m \u001b[1m0s\u001b[0m 14ms/step - accuracy: 0.2413 - loss: 2.2786 - val_accuracy: 0.2500 - val_loss: 2.4043\n",
      "Epoch 8/50\n",
      "\u001b[1m4/4\u001b[0m \u001b[32m━━━━━━━━━━━━━━━━━━━━\u001b[0m\u001b[37m\u001b[0m \u001b[1m0s\u001b[0m 11ms/step - accuracy: 0.1979 - loss: 2.2503 - val_accuracy: 0.3214 - val_loss: 2.3720\n",
      "Epoch 9/50\n",
      "\u001b[1m4/4\u001b[0m \u001b[32m━━━━━━━━━━━━━━━━━━━━\u001b[0m\u001b[37m\u001b[0m \u001b[1m0s\u001b[0m 10ms/step - accuracy: 0.3352 - loss: 2.1269 - val_accuracy: 0.3214 - val_loss: 2.3412\n",
      "Epoch 10/50\n",
      "\u001b[1m4/4\u001b[0m \u001b[32m━━━━━━━━━━━━━━━━━━━━\u001b[0m\u001b[37m\u001b[0m \u001b[1m0s\u001b[0m 14ms/step - accuracy: 0.2403 - loss: 2.2326 - val_accuracy: 0.3214 - val_loss: 2.3124\n",
      "Epoch 11/50\n",
      "\u001b[1m4/4\u001b[0m \u001b[32m━━━━━━━━━━━━━━━━━━━━\u001b[0m\u001b[37m\u001b[0m \u001b[1m0s\u001b[0m 11ms/step - accuracy: 0.3294 - loss: 2.0756 - val_accuracy: 0.2857 - val_loss: 2.2825\n",
      "Epoch 12/50\n",
      "\u001b[1m4/4\u001b[0m \u001b[32m━━━━━━━━━━━━━━━━━━━━\u001b[0m\u001b[37m\u001b[0m \u001b[1m0s\u001b[0m 11ms/step - accuracy: 0.3153 - loss: 2.0544 - val_accuracy: 0.2500 - val_loss: 2.2541\n",
      "Epoch 13/50\n",
      "\u001b[1m4/4\u001b[0m \u001b[32m━━━━━━━━━━━━━━━━━━━━\u001b[0m\u001b[37m\u001b[0m \u001b[1m0s\u001b[0m 11ms/step - accuracy: 0.3044 - loss: 2.1302 - val_accuracy: 0.2500 - val_loss: 2.2264\n",
      "Epoch 14/50\n",
      "\u001b[1m4/4\u001b[0m \u001b[32m━━━━━━━━━━━━━━━━━━━━\u001b[0m\u001b[37m\u001b[0m \u001b[1m0s\u001b[0m 15ms/step - accuracy: 0.3107 - loss: 1.9870 - val_accuracy: 0.2143 - val_loss: 2.2002\n",
      "Epoch 15/50\n",
      "\u001b[1m4/4\u001b[0m \u001b[32m━━━━━━━━━━━━━━━━━━━━\u001b[0m\u001b[37m\u001b[0m \u001b[1m0s\u001b[0m 12ms/step - accuracy: 0.2501 - loss: 1.9626 - val_accuracy: 0.2500 - val_loss: 2.1759\n",
      "Epoch 16/50\n",
      "\u001b[1m4/4\u001b[0m \u001b[32m━━━━━━━━━━━━━━━━━━━━\u001b[0m\u001b[37m\u001b[0m \u001b[1m0s\u001b[0m 11ms/step - accuracy: 0.3144 - loss: 2.0041 - val_accuracy: 0.2500 - val_loss: 2.1552\n",
      "Epoch 17/50\n",
      "\u001b[1m4/4\u001b[0m \u001b[32m━━━━━━━━━━━━━━━━━━━━\u001b[0m\u001b[37m\u001b[0m \u001b[1m0s\u001b[0m 12ms/step - accuracy: 0.4339 - loss: 1.8225 - val_accuracy: 0.2857 - val_loss: 2.1348\n",
      "Epoch 18/50\n",
      "\u001b[1m4/4\u001b[0m \u001b[32m━━━━━━━━━━━━━━━━━━━━\u001b[0m\u001b[37m\u001b[0m \u001b[1m0s\u001b[0m 11ms/step - accuracy: 0.3613 - loss: 1.8046 - val_accuracy: 0.2857 - val_loss: 2.1166\n",
      "Epoch 19/50\n",
      "\u001b[1m4/4\u001b[0m \u001b[32m━━━━━━━━━━━━━━━━━━━━\u001b[0m\u001b[37m\u001b[0m \u001b[1m0s\u001b[0m 11ms/step - accuracy: 0.3316 - loss: 1.8129 - val_accuracy: 0.2857 - val_loss: 2.0938\n",
      "Epoch 20/50\n",
      "\u001b[1m4/4\u001b[0m \u001b[32m━━━━━━━━━━━━━━━━━━━━\u001b[0m\u001b[37m\u001b[0m \u001b[1m0s\u001b[0m 11ms/step - accuracy: 0.3571 - loss: 1.8058 - val_accuracy: 0.2857 - val_loss: 2.0741\n",
      "Epoch 21/50\n",
      "\u001b[1m4/4\u001b[0m \u001b[32m━━━━━━━━━━━━━━━━━━━━\u001b[0m\u001b[37m\u001b[0m \u001b[1m0s\u001b[0m 8ms/step - accuracy: 0.3295 - loss: 1.8372 - val_accuracy: 0.2857 - val_loss: 2.0521\n",
      "Epoch 22/50\n",
      "\u001b[1m4/4\u001b[0m \u001b[32m━━━━━━━━━━━━━━━━━━━━\u001b[0m\u001b[37m\u001b[0m \u001b[1m0s\u001b[0m 11ms/step - accuracy: 0.4605 - loss: 1.6905 - val_accuracy: 0.2857 - val_loss: 2.0319\n",
      "Epoch 23/50\n",
      "\u001b[1m4/4\u001b[0m \u001b[32m━━━━━━━━━━━━━━━━━━━━\u001b[0m\u001b[37m\u001b[0m \u001b[1m0s\u001b[0m 11ms/step - accuracy: 0.3478 - loss: 1.7833 - val_accuracy: 0.3214 - val_loss: 2.0139\n",
      "Epoch 24/50\n",
      "\u001b[1m4/4\u001b[0m \u001b[32m━━━━━━━━━━━━━━━━━━━━\u001b[0m\u001b[37m\u001b[0m \u001b[1m0s\u001b[0m 11ms/step - accuracy: 0.4172 - loss: 1.6678 - val_accuracy: 0.2857 - val_loss: 1.9958\n",
      "Epoch 25/50\n",
      "\u001b[1m4/4\u001b[0m \u001b[32m━━━━━━━━━━━━━━━━━━━━\u001b[0m\u001b[37m\u001b[0m \u001b[1m0s\u001b[0m 10ms/step - accuracy: 0.3984 - loss: 1.6785 - val_accuracy: 0.2857 - val_loss: 1.9768\n",
      "Epoch 26/50\n",
      "\u001b[1m4/4\u001b[0m \u001b[32m━━━━━━━━━━━━━━━━━━━━\u001b[0m\u001b[37m\u001b[0m \u001b[1m0s\u001b[0m 8ms/step - accuracy: 0.4606 - loss: 1.5996 - val_accuracy: 0.2857 - val_loss: 1.9589\n",
      "Epoch 27/50\n",
      "\u001b[1m4/4\u001b[0m \u001b[32m━━━━━━━━━━━━━━━━━━━━\u001b[0m\u001b[37m\u001b[0m \u001b[1m0s\u001b[0m 9ms/step - accuracy: 0.4647 - loss: 1.5759 - val_accuracy: 0.2857 - val_loss: 1.9398\n",
      "Epoch 28/50\n",
      "\u001b[1m4/4\u001b[0m \u001b[32m━━━━━━━━━━━━━━━━━━━━\u001b[0m\u001b[37m\u001b[0m \u001b[1m0s\u001b[0m 7ms/step - accuracy: 0.3973 - loss: 1.6376 - val_accuracy: 0.2500 - val_loss: 1.9188\n",
      "Epoch 29/50\n",
      "\u001b[1m4/4\u001b[0m \u001b[32m━━━━━━━━━━━━━━━━━━━━\u001b[0m\u001b[37m\u001b[0m \u001b[1m0s\u001b[0m 9ms/step - accuracy: 0.4136 - loss: 1.5953 - val_accuracy: 0.2500 - val_loss: 1.8962\n",
      "Epoch 30/50\n",
      "\u001b[1m4/4\u001b[0m \u001b[32m━━━━━━━━━━━━━━━━━━━━\u001b[0m\u001b[37m\u001b[0m \u001b[1m0s\u001b[0m 11ms/step - accuracy: 0.4453 - loss: 1.5438 - val_accuracy: 0.2857 - val_loss: 1.8687\n",
      "Epoch 31/50\n",
      "\u001b[1m4/4\u001b[0m \u001b[32m━━━━━━━━━━━━━━━━━━━━\u001b[0m\u001b[37m\u001b[0m \u001b[1m0s\u001b[0m 10ms/step - accuracy: 0.4032 - loss: 1.6359 - val_accuracy: 0.3214 - val_loss: 1.8440\n",
      "Epoch 32/50\n",
      "\u001b[1m4/4\u001b[0m \u001b[32m━━━━━━━━━━━━━━━━━━━━\u001b[0m\u001b[37m\u001b[0m \u001b[1m0s\u001b[0m 14ms/step - accuracy: 0.4460 - loss: 1.5702 - val_accuracy: 0.2857 - val_loss: 1.8216\n",
      "Epoch 33/50\n",
      "\u001b[1m4/4\u001b[0m \u001b[32m━━━━━━━━━━━━━━━━━━━━\u001b[0m\u001b[37m\u001b[0m \u001b[1m0s\u001b[0m 9ms/step - accuracy: 0.4819 - loss: 1.5284 - val_accuracy: 0.2857 - val_loss: 1.7999\n",
      "Epoch 34/50\n",
      "\u001b[1m4/4\u001b[0m \u001b[32m━━━━━━━━━━━━━━━━━━━━\u001b[0m\u001b[37m\u001b[0m \u001b[1m0s\u001b[0m 12ms/step - accuracy: 0.4601 - loss: 1.4903 - val_accuracy: 0.3214 - val_loss: 1.7791\n",
      "Epoch 35/50\n",
      "\u001b[1m4/4\u001b[0m \u001b[32m━━━━━━━━━━━━━━━━━━━━\u001b[0m\u001b[37m\u001b[0m \u001b[1m0s\u001b[0m 14ms/step - accuracy: 0.5091 - loss: 1.4875 - val_accuracy: 0.2857 - val_loss: 1.7580\n",
      "Epoch 36/50\n",
      "\u001b[1m4/4\u001b[0m \u001b[32m━━━━━━━━━━━━━━━━━━━━\u001b[0m\u001b[37m\u001b[0m \u001b[1m0s\u001b[0m 10ms/step - accuracy: 0.5160 - loss: 1.3711 - val_accuracy: 0.3214 - val_loss: 1.7375\n",
      "Epoch 37/50\n",
      "\u001b[1m4/4\u001b[0m \u001b[32m━━━━━━━━━━━━━━━━━━━━\u001b[0m\u001b[37m\u001b[0m \u001b[1m0s\u001b[0m 14ms/step - accuracy: 0.5013 - loss: 1.4055 - val_accuracy: 0.3571 - val_loss: 1.7217\n",
      "Epoch 38/50\n",
      "\u001b[1m4/4\u001b[0m \u001b[32m━━━━━━━━━━━━━━━━━━━━\u001b[0m\u001b[37m\u001b[0m \u001b[1m0s\u001b[0m 11ms/step - accuracy: 0.5535 - loss: 1.2859 - val_accuracy: 0.3929 - val_loss: 1.7106\n",
      "Epoch 39/50\n",
      "\u001b[1m4/4\u001b[0m \u001b[32m━━━━━━━━━━━━━━━━━━━━\u001b[0m\u001b[37m\u001b[0m \u001b[1m0s\u001b[0m 11ms/step - accuracy: 0.4637 - loss: 1.4123 - val_accuracy: 0.3929 - val_loss: 1.7001\n",
      "Epoch 40/50\n",
      "\u001b[1m4/4\u001b[0m \u001b[32m━━━━━━━━━━━━━━━━━━━━\u001b[0m\u001b[37m\u001b[0m \u001b[1m0s\u001b[0m 11ms/step - accuracy: 0.5416 - loss: 1.4225 - val_accuracy: 0.3929 - val_loss: 1.6866\n",
      "Epoch 41/50\n",
      "\u001b[1m4/4\u001b[0m \u001b[32m━━━━━━━━━━━━━━━━━━━━\u001b[0m\u001b[37m\u001b[0m \u001b[1m0s\u001b[0m 12ms/step - accuracy: 0.4778 - loss: 1.4155 - val_accuracy: 0.3929 - val_loss: 1.6690\n",
      "Epoch 42/50\n",
      "\u001b[1m4/4\u001b[0m \u001b[32m━━━━━━━━━━━━━━━━━━━━\u001b[0m\u001b[37m\u001b[0m \u001b[1m0s\u001b[0m 7ms/step - accuracy: 0.5108 - loss: 1.3462 - val_accuracy: 0.3929 - val_loss: 1.6471\n",
      "Epoch 43/50\n",
      "\u001b[1m4/4\u001b[0m \u001b[32m━━━━━━━━━━━━━━━━━━━━\u001b[0m\u001b[37m\u001b[0m \u001b[1m0s\u001b[0m 11ms/step - accuracy: 0.5359 - loss: 1.2980 - val_accuracy: 0.4286 - val_loss: 1.6318\n",
      "Epoch 44/50\n",
      "\u001b[1m4/4\u001b[0m \u001b[32m━━━━━━━━━━━━━━━━━━━━\u001b[0m\u001b[37m\u001b[0m \u001b[1m0s\u001b[0m 12ms/step - accuracy: 0.6051 - loss: 1.2517 - val_accuracy: 0.4286 - val_loss: 1.6128\n",
      "Epoch 45/50\n",
      "\u001b[1m4/4\u001b[0m \u001b[32m━━━━━━━━━━━━━━━━━━━━\u001b[0m\u001b[37m\u001b[0m \u001b[1m0s\u001b[0m 10ms/step - accuracy: 0.5586 - loss: 1.2413 - val_accuracy: 0.4286 - val_loss: 1.5904\n",
      "Epoch 46/50\n",
      "\u001b[1m4/4\u001b[0m \u001b[32m━━━━━━━━━━━━━━━━━━━━\u001b[0m\u001b[37m\u001b[0m \u001b[1m0s\u001b[0m 11ms/step - accuracy: 0.5744 - loss: 1.2576 - val_accuracy: 0.4286 - val_loss: 1.5673\n",
      "Epoch 47/50\n",
      "\u001b[1m4/4\u001b[0m \u001b[32m━━━━━━━━━━━━━━━━━━━━\u001b[0m\u001b[37m\u001b[0m \u001b[1m0s\u001b[0m 11ms/step - accuracy: 0.6433 - loss: 1.1985 - val_accuracy: 0.4286 - val_loss: 1.5430\n",
      "Epoch 48/50\n",
      "\u001b[1m4/4\u001b[0m \u001b[32m━━━━━━━━━━━━━━━━━━━━\u001b[0m\u001b[37m\u001b[0m \u001b[1m0s\u001b[0m 11ms/step - accuracy: 0.5911 - loss: 1.1296 - val_accuracy: 0.4286 - val_loss: 1.5246\n",
      "Epoch 49/50\n",
      "\u001b[1m4/4\u001b[0m \u001b[32m━━━━━━━━━━━━━━━━━━━━\u001b[0m\u001b[37m\u001b[0m \u001b[1m0s\u001b[0m 11ms/step - accuracy: 0.5686 - loss: 1.2620 - val_accuracy: 0.4286 - val_loss: 1.5086\n",
      "Epoch 50/50\n",
      "\u001b[1m4/4\u001b[0m \u001b[32m━━━━━━━━━━━━━━━━━━━━\u001b[0m\u001b[37m\u001b[0m \u001b[1m0s\u001b[0m 11ms/step - accuracy: 0.4931 - loss: 1.2709 - val_accuracy: 0.4286 - val_loss: 1.4984\n"
     ]
    },
    {
     "data": {
      "text/plain": [
       "<keras.src.callbacks.history.History at 0x19ff9b90a10>"
      ]
     },
     "execution_count": 42,
     "metadata": {},
     "output_type": "execute_result"
    }
   ],
   "source": [
    "model.fit(X_train, y_train, epochs=50, batch_size=32, validation_data=(X_test, y_test))"
   ]
  },
  {
   "cell_type": "code",
   "execution_count": 27,
   "metadata": {},
   "outputs": [
    {
     "ename": "NameError",
     "evalue": "name 'model' is not defined",
     "output_type": "error",
     "traceback": [
      "\u001b[31m---------------------------------------------------------------------------\u001b[39m",
      "\u001b[31mNameError\u001b[39m                                 Traceback (most recent call last)",
      "\u001b[36mCell\u001b[39m\u001b[36m \u001b[39m\u001b[32mIn[27]\u001b[39m\u001b[32m, line 1\u001b[39m\n\u001b[32m----> \u001b[39m\u001b[32m1\u001b[39m \u001b[43mmodel\u001b[49m.save(\u001b[33mr\u001b[39m\u001b[33m\"\u001b[39m\u001b[33mD:\u001b[39m\u001b[33m\\\u001b[39m\u001b[33mproject\u001b[39m\u001b[33m\\\u001b[39m\u001b[33mfertilizerrecommendation\u001b[39m\u001b[33m\\\u001b[39m\u001b[33mmodels\u001b[39m\u001b[33m\\\u001b[39m\u001b[33mfertilizer.h5\u001b[39m\u001b[33m\"\u001b[39m)\n\u001b[32m      2\u001b[39m \u001b[38;5;28mprint\u001b[39m(\u001b[33m\"\u001b[39m\u001b[33mModel training complete and saved.\u001b[39m\u001b[33m\"\u001b[39m)\n",
      "\u001b[31mNameError\u001b[39m: name 'model' is not defined"
     ]
    }
   ],
   "source": [
    "model.save(r\"D:\\project\\fertilizerrecommendation\\models\\fertilizer.h5\")\n",
    "print(\"Model training complete and saved.\")"
   ]
  },
  {
   "cell_type": "code",
   "execution_count": 28,
   "metadata": {},
   "outputs": [
    {
     "name": "stdout",
     "output_type": "stream",
     "text": [
      "Iteration 1, loss = 2.74803920\n",
      "Validation score: 0.000000\n",
      "Iteration 2, loss = 2.61415333\n",
      "Validation score: 0.041667\n",
      "Iteration 3, loss = 2.50105881\n",
      "Validation score: 0.041667\n",
      "Iteration 4, loss = 2.39863740\n",
      "Validation score: 0.083333\n",
      "Iteration 5, loss = 2.30091980\n",
      "Validation score: 0.083333\n",
      "Iteration 6, loss = 2.20947383\n",
      "Validation score: 0.083333\n",
      "Iteration 7, loss = 2.12769430\n",
      "Validation score: 0.083333\n",
      "Iteration 8, loss = 2.04787623\n",
      "Validation score: 0.083333\n",
      "Iteration 9, loss = 1.97632585\n",
      "Validation score: 0.125000\n",
      "Iteration 10, loss = 1.90774163\n",
      "Validation score: 0.166667\n",
      "Iteration 11, loss = 1.84591679\n",
      "Validation score: 0.166667\n",
      "Iteration 12, loss = 1.78508555\n",
      "Validation score: 0.166667\n",
      "Iteration 13, loss = 1.73062641\n",
      "Validation score: 0.166667\n",
      "Iteration 14, loss = 1.67787634\n",
      "Validation score: 0.166667\n",
      "Iteration 15, loss = 1.62594979\n",
      "Validation score: 0.166667\n",
      "Iteration 16, loss = 1.57582975\n",
      "Validation score: 0.166667\n",
      "Iteration 17, loss = 1.52941335\n",
      "Validation score: 0.208333\n",
      "Iteration 18, loss = 1.48494209\n",
      "Validation score: 0.208333\n",
      "Iteration 19, loss = 1.43945284\n",
      "Validation score: 0.208333\n",
      "Iteration 20, loss = 1.39689242\n",
      "Validation score: 0.208333\n",
      "Iteration 21, loss = 1.35514176\n",
      "Validation score: 0.208333\n",
      "Iteration 22, loss = 1.31543565\n",
      "Validation score: 0.208333\n",
      "Iteration 23, loss = 1.27509124\n",
      "Validation score: 0.208333\n",
      "Iteration 24, loss = 1.23657210\n",
      "Validation score: 0.208333\n",
      "Iteration 25, loss = 1.20097082\n",
      "Validation score: 0.208333\n",
      "Iteration 26, loss = 1.16363168\n",
      "Validation score: 0.208333\n",
      "Iteration 27, loss = 1.12889965\n",
      "Validation score: 0.250000\n",
      "Iteration 28, loss = 1.09607322\n",
      "Validation score: 0.250000\n",
      "Iteration 29, loss = 1.06253651\n",
      "Validation score: 0.291667\n",
      "Iteration 30, loss = 1.03120524\n",
      "Validation score: 0.291667\n",
      "Iteration 31, loss = 1.00252575\n",
      "Validation score: 0.291667\n",
      "Iteration 32, loss = 0.97244412\n",
      "Validation score: 0.250000\n",
      "Iteration 33, loss = 0.94493136\n",
      "Validation score: 0.250000\n",
      "Iteration 34, loss = 0.91835624\n",
      "Validation score: 0.250000\n",
      "Iteration 35, loss = 0.89155150\n",
      "Validation score: 0.250000\n",
      "Iteration 36, loss = 0.86567550\n",
      "Validation score: 0.250000\n",
      "Iteration 37, loss = 0.84274198\n",
      "Validation score: 0.208333\n",
      "Iteration 38, loss = 0.81881679\n",
      "Validation score: 0.208333\n",
      "Iteration 39, loss = 0.79745015\n",
      "Validation score: 0.208333\n",
      "Iteration 40, loss = 0.77452504\n",
      "Validation score: 0.250000\n",
      "Validation score did not improve more than tol=0.000100 for 10 consecutive epochs. Stopping.\n",
      "Training accuracy: 0.5798\n",
      "Test accuracy: 0.2667\n",
      "Model training complete and saved.\n"
     ]
    }
   ],
   "source": [
    "import pandas as pd\n",
    "import numpy as np\n",
    "from sklearn.model_selection import train_test_split\n",
    "from sklearn.preprocessing import LabelEncoder, StandardScaler\n",
    "from sklearn.neural_network import MLPClassifier\n",
    "import joblib\n",
    "\n",
    "# Load data\n",
    "df = pd.read_csv(r\"D:\\fertilizerrecommendation\\data\\f2.csv\")\n",
    "\n",
    "# Encode target labels\n",
    "label_enc = LabelEncoder()\n",
    "df['Fertilizer'] = label_enc.fit_transform(df['Fertilizer'])\n",
    "joblib.dump(label_enc, r\"D:\\\\fertilizerrecommendation\\\\models\\\\label_encoder.pkl\")\n",
    "\n",
    "# Handle categorical features with one-hot encoding\n",
    "categorical_cols = [col for col in df.select_dtypes(include=['object']).columns if col != \"Fertilizer\"]\n",
    "df = pd.get_dummies(df, columns=categorical_cols)\n",
    "\n",
    "# Prepare features and target\n",
    "X = df.drop(columns=['Fertilizer'])\n",
    "y = df['Fertilizer']  # No one-hot here; MLPClassifier expects label encoded target\n",
    "\n",
    "# Scale features\n",
    "scaler = StandardScaler()\n",
    "X_scaled = scaler.fit_transform(X)\n",
    "joblib.dump(scaler, r\"D:\\\\fertilizerrecommendation\\\\models\\\\scaler.pkl\")\n",
    "\n",
    "# Split data\n",
    "X_train, X_test, y_train, y_test = train_test_split(X_scaled, y, test_size=0.2, random_state=42)\n",
    "\n",
    "# Define and train the model\n",
    "model = MLPClassifier(\n",
    "    hidden_layer_sizes=(64, 64),\n",
    "    activation='relu',\n",
    "    solver='adam',\n",
    "    alpha=0.0001,\n",
    "    batch_size=32,\n",
    "    max_iter=50,\n",
    "    random_state=42,\n",
    "    verbose=True,\n",
    "    early_stopping=True,\n",
    "    validation_fraction=0.2,\n",
    ")\n",
    "\n",
    "model.fit(X_train, y_train)\n",
    "\n",
    "# Evaluate the model\n",
    "train_acc = model.score(X_train, y_train)\n",
    "test_acc = model.score(X_test, y_test)\n",
    "print(f\"Training accuracy: {train_acc:.4f}\")\n",
    "print(f\"Test accuracy: {test_acc:.4f}\")\n",
    "\n",
    "# Save the trained model\n",
    "joblib.dump(model, r\"D:\\\\fertilizerrecommendation\\\\models\\\\fertilizer_model.pkl\")\n",
    "print(\"Model training complete and saved.\")\n"
   ]
  }
 ],
 "metadata": {
  "kernelspec": {
   "display_name": "Python 3",
   "language": "python",
   "name": "python3"
  },
  "language_info": {
   "codemirror_mode": {
    "name": "ipython",
    "version": 3
   },
   "file_extension": ".py",
   "mimetype": "text/x-python",
   "name": "python",
   "nbconvert_exporter": "python",
   "pygments_lexer": "ipython3",
   "version": "3.13.3"
  }
 },
 "nbformat": 4,
 "nbformat_minor": 2
}
